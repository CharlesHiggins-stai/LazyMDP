{
 "cells": [
  {
   "cell_type": "code",
   "execution_count": 1,
   "metadata": {},
   "outputs": [
    {
     "name": "stderr",
     "output_type": "stream",
     "text": [
      "A.L.E: Arcade Learning Environment (version 0.8.1+53f58b7)\n",
      "[Powered by Stella]\n"
     ]
    }
   ],
   "source": [
    "import sys\n",
    "sys.path.append(\"/home/charleshiggins/LazyMDP\")\n",
    "# training imports\n",
    "from stable_baselines3 import PPO\n",
    "from stable_baselines3.common.monitor import Monitor\n",
    "from stable_baselines3.common.env_util import make_vec_env\n",
    "from stable_baselines3.common.callbacks import EvalCallback, StopTrainingOnRewardThreshold\n",
    "from wandb.integration.sb3 import WandbCallback\n",
    "import wandb\n",
    "import gymnasium as gym\n",
    "# general imports\n",
    "import argparse\n",
    "import os\n",
    "from lazywrapper import LazyWrapper, LastObservationWrapper\n",
    "\n",
    "# define function\n",
    "def make_custom_env(original_env, n_envs, seed, loaded_default_policy, penalty):\n",
    "    def _init():\n",
    "        env = LazyWrapper(LastObservationWrapper(gym.make(original_env)), default_policy=loaded_default_policy, penalty = penalty)\n",
    "        return env\n",
    "    return _init\n",
    "# set parameters\n",
    "default_model = PPO.load(\"/home/charleshiggins/LazyMDP/baselines/suboptimal_pretrained_policies/ppo_BreakoutNoFrameskip-v4_0\")\n",
    "seed = 0\n",
    "penalty = -1\n",
    "original_env_name = \"BreakoutNoFrameskip-v4\"\n",
    "n_envs = 4\n",
    "# make environment\n",
    "vec_env = make_vec_env(env_id=make_custom_env(original_env_name, n_envs, seed, default_model, penalty), n_envs=n_envs)\n",
    "vec_obs = vec_env.reset()\n",
    "# make original environment\n",
    "original_env = make_vec_env(original_env_name, n_envs=4)\n",
    "obs = original_env.reset()"
   ]
  },
  {
   "cell_type": "code",
   "execution_count": null,
   "metadata": {},
   "outputs": [],
   "source": [
    "original_env.step([0,1,0,1])"
   ]
  },
  {
   "cell_type": "code",
   "execution_count": null,
   "metadata": {},
   "outputs": [],
   "source": [
    "vec_env.step([2,2,2,2])"
   ]
  },
  {
   "cell_type": "code",
   "execution_count": 2,
   "metadata": {},
   "outputs": [
    {
     "name": "stdout",
     "output_type": "stream",
     "text": [
      "Mean reward: 7.20 +/- 6.52\n"
     ]
    }
   ],
   "source": [
    "from stable_baselines3.common.evaluation import evaluate_policy\n",
    "from stable_baselines3.common.atari_wrappers import AtariWrapper\n",
    "# eval_env = Monitor(gym.make(\"Y\"))\n",
    "def make_internal_atari_env(original_env):\n",
    "    def _init():\n",
    "        env = AtariWrapper(gym.make(original_env))\n",
    "        return env\n",
    "    return _init\n",
    "env_eval = make_vec_env(env_id=make_atari_env(\"BreakoutNoFrameskip-v4\"))\n",
    "mean_reward, std_reward = evaluate_policy(default_model, env_eval, n_eval_episodes=10)\n",
    "print(f\"Mean reward: {mean_reward:.2f} +/- {std_reward:.2f}\")\n",
    "\n"
   ]
  },
  {
   "cell_type": "code",
   "execution_count": null,
   "metadata": {},
   "outputs": [],
   "source": [
    "vec_env = default_model.get_env()\n",
    "obs = vec_env.reset()\n",
    "for i in range(1000):\n",
    "    action, _states = model.predict(obs, deterministic=True)\n",
    "    obs, rewards, dones, info = vec_env.step(action)\n",
    "    vec_env.render(\"human\")"
   ]
  },
  {
   "cell_type": "code",
   "execution_count": null,
   "metadata": {},
   "outputs": [],
   "source": [
    "from stable_baselines3.common.env_util import make_atari_env\n",
    "from stable_baselines3.common.vec_env import VecFrameStack\n",
    "from stable_baselines3 import A2C\n",
    "\n",
    "# There already exists an environment generator\n",
    "# that will make and wrap atari environments correctly.\n",
    "def make_internal_atari_env(original_env):\n",
    "    def _init():\n",
    "        env = AtariWrapper(gym.make(original_env))\n",
    "        return env\n",
    "    return _init\n",
    "# Here we are also multi-worker training (n_envs=4 => 4 environments)\n",
    "vec_env = make_atari_env(env_id = make_internal_atari_env(\"BreakoutNoFrameskip-v4\"), n_envs=4, seed=0)\n",
    "# Frame-stacking with 4 frames\n",
    "vec_env = VecFrameStack(vec_env, n_stack=4)\n",
    "\n",
    "# model = A2C(\"CnnPolicy\", vec_env, verbose=1)\n",
    "# model.learn(total_timesteps=5_000)\n",
    "\n",
    "obs = vec_env.reset()\n",
    "# while True:\n",
    "#     action, _states = model.predict(obs, deterministic=False)\n",
    "#     obs, rewards, dones, info = vec_env.step(action)"
   ]
  },
  {
   "cell_type": "code",
   "execution_count": 7,
   "metadata": {},
   "outputs": [
    {
     "data": {
      "text/plain": [
       "5"
      ]
     },
     "execution_count": 7,
     "metadata": {},
     "output_type": "execute_result"
    }
   ],
   "source": []
  },
  {
   "cell_type": "code",
   "execution_count": null,
   "metadata": {},
   "outputs": [],
   "source": []
  }
 ],
 "metadata": {
  "kernelspec": {
   "display_name": "minatar",
   "language": "python",
   "name": "python3"
  },
  "language_info": {
   "codemirror_mode": {
    "name": "ipython",
    "version": 3
   },
   "file_extension": ".py",
   "mimetype": "text/x-python",
   "name": "python",
   "nbconvert_exporter": "python",
   "pygments_lexer": "ipython3",
   "version": "3.10.14"
  }
 },
 "nbformat": 4,
 "nbformat_minor": 2
}
