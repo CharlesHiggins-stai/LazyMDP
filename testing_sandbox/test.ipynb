{
 "cells": [
  {
   "cell_type": "code",
   "execution_count": null,
   "metadata": {},
   "outputs": [],
   "source": [
    "# training imports\n",
    "from stable_baselines3 import PPO\n",
    "from stable_baselines3.common.monitor import Monitor\n",
    "from stable_baselines3.common.env_util import make_vec_env\n",
    "from stable_baselines3.common.callbacks import EvalCallback, StopTrainingOnRewardThreshold\n",
    "from wandb.integration.sb3 import WandbCallback\n",
    "import wandb\n",
    "import gymnasium as gym\n",
    "# general imports\n",
    "import argparse\n",
    "import os\n",
    "from lazywrapper import LazyWrapper, LastObservationWrapper\n",
    "\n",
    "# define function\n",
    "def make_custom_env(original_env, n_envs, seed, loaded_default_policy, penalty):\n",
    "    def _init():\n",
    "        env = LazyWrapper(LastObservationWrapper(gym.make(original_env)), default_policy=loaded_default_policy, penalty = penalty)\n",
    "        return env\n",
    "    return _init\n",
    "# set parameters\n",
    "default_model = PPO.load(\"baselines/pretrained_policies/ppo_CartPole-v1_0\")\n",
    "seed = 0\n",
    "penalty = -1\n",
    "original_env = \"CartPole-v1\"\n",
    "n_envs = 4\n",
    "# make environment\n",
    "vec_env = make_vec_env(env_id=make_custom_env(original_env, n_envs, seed, default_model, penalty), n_envs=n_envs)\n",
    "vec_obs = vec_env.reset()\n",
    "# make original environment\n",
    "original_env = make_vec_env(\"CartPole-v1\", n_envs=4)\n",
    "obs = original_env.reset()"
   ]
  },
  {
   "cell_type": "code",
   "execution_count": null,
   "metadata": {},
   "outputs": [],
   "source": [
    "original_env.step([0,1,0,1])"
   ]
  },
  {
   "cell_type": "code",
   "execution_count": null,
   "metadata": {},
   "outputs": [],
   "source": [
    "vec_env.step([2,2,2,2])"
   ]
  }
 ],
 "metadata": {
  "kernelspec": {
   "display_name": "minatar",
   "language": "python",
   "name": "python3"
  },
  "language_info": {
   "codemirror_mode": {
    "name": "ipython",
    "version": 3
   },
   "file_extension": ".py",
   "mimetype": "text/x-python",
   "name": "python",
   "nbconvert_exporter": "python",
   "pygments_lexer": "ipython3",
   "version": "3.10.14"
  }
 },
 "nbformat": 4,
 "nbformat_minor": 2
}
