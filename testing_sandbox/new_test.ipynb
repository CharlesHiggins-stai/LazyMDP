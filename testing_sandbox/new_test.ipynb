{
 "cells": [
  {
   "cell_type": "code",
   "execution_count": 17,
   "metadata": {},
   "outputs": [
    {
     "name": "stdout",
     "output_type": "stream",
     "text": [
      "(4, 84, 84, 1)\n"
     ]
    }
   ],
   "source": [
    "import sys\n",
    "sys.path.append(\"/home/charleshiggins/LazyMDP\")\n",
    "from stable_baselines3.common.env_util import make_atari_env\n",
    "from stable_baselines3.common.vec_env import VecFrameStack\n",
    "from stable_baselines3.common.atari_wrappers import AtariWrapper\n",
    "from stable_baselines3 import A2C, PPO\n",
    "import gymnasium as gym\n",
    "\n",
    "from lazywrapper import LazyWrapper, LastObservationWrapper\n",
    "from lazywrapper.custom_callbacks import ActionProportionCallback\n",
    "# general imports\n",
    "\n",
    "default_policy = PPO.load(\"/home/charleshiggins/LazyMDP/baselines/suboptimal_pretrained_policies/ppo_BreakoutNoFrameskip-v4_0\")\n",
    "def make_custom_atari_env(original_env, loaded_default_policy, penalty):\n",
    "    def _init():\n",
    "        env = LazyWrapper(LastObservationWrapper(gym.make(original_env)), default_policy=loaded_default_policy, penalty = penalty)\n",
    "        return env\n",
    "    return _init\n",
    "# There already exists an environment generator\n",
    "# that will make and wrap atari environments correctly.\n",
    "def make_internal_atari_env(original_env):\n",
    "    def _init():\n",
    "        env = gym.make(original_env)\n",
    "        return env\n",
    "    return _init\n",
    "# Here we are also multi-worker training (n_envs=4 => 4 environments)\n",
    "vec_env_pre = make_atari_env(env_id=make_custom_atari_env(\"BreakoutNoFrameskip-v4\", default_policy, penalty=0.9), n_envs=4, seed=0)\n",
    "obs = vec_env_pre.reset()\n",
    "print(obs.shape)\n",
    "# Frame-stacking with 4 frames\n",
    "vec_env_post = VecFrameStack(vec_env_pre, n_stack=4)\n",
    "\n",
    "# model = A2C(\"CnnPolicy\", vec_env, verbose=1)\n",
    "# model.learn(total_timesteps=5_000)\n",
    "\n",
    "obs = vec_env_post.reset()"
   ]
  },
  {
   "cell_type": "code",
   "execution_count": 11,
   "metadata": {},
   "outputs": [
    {
     "data": {
      "text/plain": [
       "(4, 84, 84, 4)"
      ]
     },
     "execution_count": 11,
     "metadata": {},
     "output_type": "execute_result"
    }
   ],
   "source": [
    "obs.shape"
   ]
  },
  {
   "cell_type": "code",
   "execution_count": null,
   "metadata": {},
   "outputs": [],
   "source": []
  }
 ],
 "metadata": {
  "kernelspec": {
   "display_name": "LazyMDP",
   "language": "python",
   "name": "python3"
  },
  "language_info": {
   "codemirror_mode": {
    "name": "ipython",
    "version": 3
   },
   "file_extension": ".py",
   "mimetype": "text/x-python",
   "name": "python",
   "nbconvert_exporter": "python",
   "pygments_lexer": "ipython3",
   "version": "3.10.14"
  }
 },
 "nbformat": 4,
 "nbformat_minor": 2
}
