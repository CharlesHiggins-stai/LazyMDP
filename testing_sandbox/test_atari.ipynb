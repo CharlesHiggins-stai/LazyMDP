{
 "cells": [
  {
   "cell_type": "code",
   "execution_count": 1,
   "metadata": {},
   "outputs": [
    {
     "name": "stderr",
     "output_type": "stream",
     "text": [
      "A.L.E: Arcade Learning Environment (version 0.8.1+53f58b7)\n",
      "[Powered by Stella]\n"
     ]
    }
   ],
   "source": [
    "# training imports\n",
    "from stable_baselines3 import PPO\n",
    "from stable_baselines3.common.monitor import Monitor\n",
    "from stable_baselines3.common.env_util import make_vec_env\n",
    "from stable_baselines3.common.callbacks import EvalCallback, StopTrainingOnRewardThreshold\n",
    "from stable_baselines3.common.atari_wrappers import AtariWrapper\n",
    "from wandb.integration.sb3 import WandbCallback\n",
    "import wandb\n",
    "import gymnasium as gym\n",
    "# general imports\n",
    "import argparse\n",
    "import os\n",
    "from lazywrapper import LazyWrapper, LastObservationWrapper\n",
    "\n",
    "# define function\n",
    "def make_custom_env(original_env, n_envs, seed, loaded_default_policy, penalty):\n",
    "    def _init():\n",
    "        env = LazyWrapper(LastObservationWrapper(gym.make(original_env)), default_policy=loaded_default_policy, penalty = penalty)\n",
    "        return env\n",
    "    return _init\n",
    "# set parameters\n",
    "def make_custom_atari_env(original_env, n_envs, seed, loaded_default_policy, penalty):\n",
    "    def _init():\n",
    "        env = LazyWrapper(LastObservationWrapper(AtariWrapper(gym.make(original_env))), default_policy=loaded_default_policy, penalty = penalty)\n",
    "        return env\n",
    "    return _init\n",
    "\n",
    "default_model = PPO.load(\"baselines/suboptimal_pretrained_policies/ppo_CartPole-v1_0\")\n",
    "seed = 0\n",
    "penalty = -0.5\n",
    "original_env = \"ALE/Breakout-v5\"\n",
    "n_envs = 4\n",
    "# make environment\n",
    "vec_env = make_vec_env(env_id=make_custom_atari_env(original_env, n_envs, seed, default_model, penalty), n_envs=n_envs)\n",
    "vec_obs = vec_env.reset()\n",
    "# make original environment\n",
    "original_env = make_vec_env(original_env, n_envs=4)\n",
    "obs = original_env.reset()"
   ]
  },
  {
   "cell_type": "code",
   "execution_count": 10,
   "metadata": {},
   "outputs": [
    {
     "data": {
      "text/plain": [
       "4"
      ]
     },
     "execution_count": 10,
     "metadata": {},
     "output_type": "execute_result"
    }
   ],
   "source": [
    "original_env.step([0,1,0,1])\n",
    "\n",
    "original_env.action_space.n"
   ]
  },
  {
   "cell_type": "code",
   "execution_count": 11,
   "metadata": {},
   "outputs": [
    {
     "data": {
      "text/plain": [
       "5"
      ]
     },
     "execution_count": 11,
     "metadata": {},
     "output_type": "execute_result"
    }
   ],
   "source": [
    "vec_env.action_space.n"
   ]
  },
  {
   "cell_type": "code",
   "execution_count": null,
   "metadata": {},
   "outputs": [],
   "source": []
  }
 ],
 "metadata": {
  "kernelspec": {
   "display_name": "minatar",
   "language": "python",
   "name": "python3"
  },
  "language_info": {
   "codemirror_mode": {
    "name": "ipython",
    "version": 3
   },
   "file_extension": ".py",
   "mimetype": "text/x-python",
   "name": "python",
   "nbconvert_exporter": "python",
   "pygments_lexer": "ipython3",
   "version": "3.10.14"
  }
 },
 "nbformat": 4,
 "nbformat_minor": 2
}
